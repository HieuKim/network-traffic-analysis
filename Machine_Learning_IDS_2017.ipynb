{
  "nbformat": 4,
  "nbformat_minor": 0,
  "metadata": {
    "colab": {
      "name": "Machine Learning IDS 2017.ipynb",
      "provenance": [],
      "toc_visible": true,
      "authorship_tag": "ABX9TyM+PXge+j7jxC9kfYhRS+Kl",
      "include_colab_link": true
    },
    "kernelspec": {
      "name": "python3",
      "display_name": "Python 3"
    },
    "language_info": {
      "name": "python"
    }
  },
  "cells": [
    {
      "cell_type": "markdown",
      "metadata": {
        "id": "view-in-github",
        "colab_type": "text"
      },
      "source": [
        "<a href=\"https://colab.research.google.com/github/HieuKim/network-traffic-analysis/blob/master/Machine_Learning_IDS_2017.ipynb\" target=\"_parent\"><img src=\"https://colab.research.google.com/assets/colab-badge.svg\" alt=\"Open In Colab\"/></a>"
      ]
    },
    {
      "cell_type": "code",
      "metadata": {
        "colab": {
          "base_uri": "https://localhost:8080/"
        },
        "id": "_1WI7C6SSw1l",
        "outputId": "0997ab00-b11f-4b2a-dedd-f0b9a9f20512"
      },
      "source": [
        "from google.colab import drive\n",
        "drive.mount('/content/gdrive')"
      ],
      "execution_count": null,
      "outputs": [
        {
          "output_type": "stream",
          "text": [
            "Drive already mounted at /content/gdrive; to attempt to forcibly remount, call drive.mount(\"/content/gdrive\", force_remount=True).\n"
          ],
          "name": "stdout"
        }
      ]
    },
    {
      "cell_type": "code",
      "metadata": {
        "id": "XZWD_EOyTMrB"
      },
      "source": [
        "# import os\n",
        "# os.environ['KAGGLE_CONFIG_DIR'] = \"/content/gdrive/My Drive/Kaggle\"\n",
        "# # /content/gdrive/My Drive/Kaggle is the path where kaggle.json is present in the Google Drive"
      ],
      "execution_count": null,
      "outputs": []
    },
    {
      "cell_type": "code",
      "metadata": {
        "id": "OLEDgkANTT3C"
      },
      "source": [
        "# #changing the working directory\n",
        "# %cd /content/gdrive/My Drive/Kaggle\n",
        "# #Check the present working directory using pwd command\n"
      ],
      "execution_count": null,
      "outputs": []
    },
    {
      "cell_type": "code",
      "metadata": {
        "id": "LlqavvkaTbkh"
      },
      "source": [
        "# !kaggle datasets download -d cicdataset/cicids2017"
      ],
      "execution_count": null,
      "outputs": []
    },
    {
      "cell_type": "code",
      "metadata": {
        "id": "P9sWGionTrKu"
      },
      "source": [
        "#unzipping the zip files and deleting the zip files\n",
        "# !unzip \\*.zip  && rm *.zip"
      ],
      "execution_count": null,
      "outputs": []
    },
    {
      "cell_type": "code",
      "metadata": {
        "id": "mtC5ImHQUERG"
      },
      "source": [
        "# This Python 3 environment comes with many helpful analytics libraries installed\n",
        "# It is defined by the kaggle/python Docker image: https://github.com/kaggle/docker-python\n",
        "# For example, here's several helpful packages to load\n",
        "\n",
        "import numpy as np # linear algebra\n",
        "import pandas as pd # data processing, CSV file I/O (e.g. pd.read_csv)\n",
        "\n",
        "# Input data files are available in the read-only \"../input/\" directory\n",
        "# For example, running this (by clicking run or pressing Shift+Enter) will list all files under the input directory\n",
        "\n",
        "import os\n",
        "for dirname, _, filenames in os.walk('/kaggle/input'):\n",
        "    for filename in filenames:\n",
        "        print(os.path.join(dirname, filename))\n",
        "\n",
        "# You can write up to 20GB to the current directory (/kaggle/working/) that gets preserved as output when you create a version using \"Save & Run All\" \n",
        "# You can also write temporary files to /kaggle/temp/, but they won't be saved outside of the current session"
      ],
      "execution_count": null,
      "outputs": []
    },
    {
      "cell_type": "code",
      "metadata": {
        "id": "GJ84FPbHVtXa"
      },
      "source": [
        "# import required libraries \n",
        "import glob\n",
        "import matplotlib.pyplot as plt\n",
        "import numpy as np\n",
        "import pandas as pd \n",
        "import seaborn\n",
        "import time\n",
        "\n",
        "from numpy import array\n",
        "\n",
        "from sklearn import preprocessing\n",
        "from sklearn.preprocessing import StandardScaler\n",
        "from sklearn.preprocessing import MinMaxScaler\n",
        "from sklearn.preprocessing import RobustScaler\n",
        "\n",
        "from sklearn.tree import DecisionTreeClassifier\n",
        "from sklearn.svm import LinearSVC\n",
        "from sklearn.naive_bayes import MultinomialNB\n",
        "from sklearn.neighbors import NearestNeighbors\n",
        "from sklearn.neighbors import KNeighborsClassifier\n",
        "from sklearn.cluster import KMeans\n",
        "from sklearn.decomposition import PCA\n",
        "from sklearn.ensemble import RandomForestRegressor\n",
        "from sklearn.ensemble import RandomForestClassifier\n",
        "\n",
        "from sklearn.feature_selection import SelectKBest\n",
        "from sklearn.feature_selection import chi2\n",
        "from sklearn.feature_selection import mutual_info_classif\n",
        "\n",
        "from sklearn import metrics\n",
        "from sklearn.metrics import accuracy_score\n",
        "from sklearn.metrics import confusion_matrix\n",
        "from sklearn.metrics import precision_recall_fscore_support as score\n",
        "from sklearn.metrics import completeness_score, homogeneity_score, v_measure_score\n",
        "\n",
        "from sklearn.model_selection import train_test_split"
      ],
      "execution_count": null,
      "outputs": []
    },
    {
      "cell_type": "code",
      "metadata": {
        "id": "0okmyS_ZVu79"
      },
      "source": [
        "# path to where ML files are stored\n",
        "path = '/content/gdrive/MyDrive/Kaggle/MachineLearningCSV/MachineLearningCVE'\n",
        "all_files = glob.glob(path + \"/*.csv\")\n",
        "\n",
        "# concatenate the 8 files into 1\n",
        "dataset = pd.concat((pd.read_csv(f) for f in all_files))"
      ],
      "execution_count": null,
      "outputs": []
    },
    {
      "cell_type": "code",
      "metadata": {
        "id": "GHrPhho0V5Qz"
      },
      "source": [
        "col_names = [\"Destination_Port\",\n",
        "             \"Flow_Duration\", \n",
        "             \"Total_Fwd_Packets\",\n",
        "             \"Total_Backward_Packets\",\n",
        "             \"Total_Length_of_Fwd_Packets\", \n",
        "             \"Total_Length_of_Bwd_Packets\", \n",
        "             \"Fwd_Packet_Length_Max\", \n",
        "             \"Fwd_Packet_Length_Min\", \n",
        "             \"Fwd_Packet_Length_Mean\", \n",
        "             \"Fwd_Packet_Length_Std\",\n",
        "             \"Bwd_Packet_Length_Max\", \n",
        "             \"Bwd_Packet_Length_Min\", \n",
        "             \"Bwd_Packet_Length_Mean\", \n",
        "             \"Bwd_Packet_Length_Std\",\n",
        "             \"Flow_Bytes_s\", \n",
        "             \"Flow_Packets_s\", \n",
        "             \"Flow_IAT_Mean\", \n",
        "             \"Flow_IAT_Std\", \n",
        "             \"Flow_IAT_Max\", \n",
        "             \"Flow_IAT_Min\",\n",
        "             \"Fwd_IAT_Total\", \n",
        "             \"Fwd_IAT_Mean\", \n",
        "             \"Fwd_IAT_Std\", \n",
        "             \"Fwd_IAT_Max\", \n",
        "             \"Fwd_IAT_Min\",\n",
        "             \"Bwd_IAT_Total\", \n",
        "             \"Bwd_IAT_Mean\", \n",
        "             \"Bwd_IAT_Std\", \n",
        "             \"Bwd_IAT_Max\", \n",
        "             \"Bwd_IAT_Min\",\n",
        "             \"Fwd_PSH_Flags\", \n",
        "             \"Bwd_PSH_Flags\", \n",
        "             \"Fwd_URG_Flags\", \n",
        "             \"Bwd_URG_Flags\", \n",
        "             \"Fwd_Header_Length\", \n",
        "             \"Bwd_Header_Length\",\n",
        "             \"Fwd_Packets_s\", \n",
        "             \"Bwd_Packets_s\", \n",
        "             \"Min_Packet_Length\", \n",
        "             \"Max_Packet_Length\", \n",
        "             \"Packet_Length_Mean\", \n",
        "             \"Packet_Length_Std\", \n",
        "             \"Packet_Length_Variance\",\n",
        "             \"FIN_Flag_Count\", \n",
        "             \"SYN_Flag_Count\", \n",
        "             \"RST_Flag_Count\", \n",
        "             \"PSH_Flag_Count\", \n",
        "             \"ACK_Flag_Count\", \n",
        "             \"URG_Flag_Count\", \n",
        "             \"CWE_Flag_Count\", \n",
        "             \"ECE_Flag_Count\", \n",
        "             \"Down_Up_Ratio\", \n",
        "             \"Average_Packet_Size\", \n",
        "             \"Avg_Fwd_Segment_Size\", \n",
        "             \"Avg_Bwd_Segment_Size\", \n",
        "             \"Fwd_Header_Length\",\n",
        "             \"Fwd_Avg_Bytes_Bulk\", \n",
        "             \"Fwd_Avg_Packets_Bulk\", \n",
        "             \"Fwd_Avg_Bulk_Rate\", \n",
        "             \"Bwd_Avg_Bytes_Bulk\", \n",
        "             \"Bwd_Avg_Packets_Bulk\",\n",
        "             \"Bwd_Avg_Bulk_Rate\",\n",
        "             \"Subflow_Fwd_Packets\", \n",
        "             \"Subflow_Fwd_Bytes\", \n",
        "             \"Subflow_Bwd_Packets\", \n",
        "             \"Subflow_Bwd_Bytes\",\n",
        "             \"Init_Win_bytes_forward\", \n",
        "             \"Init_Win_bytes_backward\", \n",
        "             \"act_data_pkt_fwd\", \n",
        "             \"min_seg_size_forward\",\n",
        "             \"Active_Mean\", \n",
        "             \"Active_Std\", \n",
        "             \"Active_Max\", \n",
        "             \"Active_Min\",\n",
        "             \"Idle_Mean\", \n",
        "             \"Idle_Std\", \n",
        "             \"Idle_Max\", \n",
        "             \"Idle_Min\", \n",
        "             \"Label\"\n",
        "            ]"
      ],
      "execution_count": null,
      "outputs": []
    },
    {
      "cell_type": "code",
      "metadata": {
        "colab": {
          "base_uri": "https://localhost:8080/"
        },
        "id": "hTixYoloV_Va",
        "outputId": "966324af-3ef1-4dd4-8a1a-d3975aa52ed0"
      },
      "source": [
        "# Assign the column names\n",
        "dataset.columns = col_names\n",
        "print(dataset.columns)\n",
        "\n",
        "# get statistics about each feature\n",
        "dataset.describe().transpose()\n",
        "\n",
        "# check all the values are numerical\n",
        "# if not, would have to encode\n",
        "print(dataset.dtypes)"
      ],
      "execution_count": null,
      "outputs": [
        {
          "output_type": "stream",
          "text": [
            "Index(['Destination_Port', 'Flow_Duration', 'Total_Fwd_Packets',\n",
            "       'Total_Backward_Packets', 'Total_Length_of_Fwd_Packets',\n",
            "       'Total_Length_of_Bwd_Packets', 'Fwd_Packet_Length_Max',\n",
            "       'Fwd_Packet_Length_Min', 'Fwd_Packet_Length_Mean',\n",
            "       'Fwd_Packet_Length_Std', 'Bwd_Packet_Length_Max',\n",
            "       'Bwd_Packet_Length_Min', 'Bwd_Packet_Length_Mean',\n",
            "       'Bwd_Packet_Length_Std', 'Flow_Bytes_s', 'Flow_Packets_s',\n",
            "       'Flow_IAT_Mean', 'Flow_IAT_Std', 'Flow_IAT_Max', 'Flow_IAT_Min',\n",
            "       'Fwd_IAT_Total', 'Fwd_IAT_Mean', 'Fwd_IAT_Std', 'Fwd_IAT_Max',\n",
            "       'Fwd_IAT_Min', 'Bwd_IAT_Total', 'Bwd_IAT_Mean', 'Bwd_IAT_Std',\n",
            "       'Bwd_IAT_Max', 'Bwd_IAT_Min', 'Fwd_PSH_Flags', 'Bwd_PSH_Flags',\n",
            "       'Fwd_URG_Flags', 'Bwd_URG_Flags', 'Fwd_Header_Length',\n",
            "       'Bwd_Header_Length', 'Fwd_Packets_s', 'Bwd_Packets_s',\n",
            "       'Min_Packet_Length', 'Max_Packet_Length', 'Packet_Length_Mean',\n",
            "       'Packet_Length_Std', 'Packet_Length_Variance', 'FIN_Flag_Count',\n",
            "       'SYN_Flag_Count', 'RST_Flag_Count', 'PSH_Flag_Count', 'ACK_Flag_Count',\n",
            "       'URG_Flag_Count', 'CWE_Flag_Count', 'ECE_Flag_Count', 'Down_Up_Ratio',\n",
            "       'Average_Packet_Size', 'Avg_Fwd_Segment_Size', 'Avg_Bwd_Segment_Size',\n",
            "       'Fwd_Header_Length', 'Fwd_Avg_Bytes_Bulk', 'Fwd_Avg_Packets_Bulk',\n",
            "       'Fwd_Avg_Bulk_Rate', 'Bwd_Avg_Bytes_Bulk', 'Bwd_Avg_Packets_Bulk',\n",
            "       'Bwd_Avg_Bulk_Rate', 'Subflow_Fwd_Packets', 'Subflow_Fwd_Bytes',\n",
            "       'Subflow_Bwd_Packets', 'Subflow_Bwd_Bytes', 'Init_Win_bytes_forward',\n",
            "       'Init_Win_bytes_backward', 'act_data_pkt_fwd', 'min_seg_size_forward',\n",
            "       'Active_Mean', 'Active_Std', 'Active_Max', 'Active_Min', 'Idle_Mean',\n",
            "       'Idle_Std', 'Idle_Max', 'Idle_Min', 'Label'],\n",
            "      dtype='object')\n",
            "Destination_Port                 int64\n",
            "Flow_Duration                    int64\n",
            "Total_Fwd_Packets                int64\n",
            "Total_Backward_Packets           int64\n",
            "Total_Length_of_Fwd_Packets      int64\n",
            "                                ...   \n",
            "Idle_Mean                      float64\n",
            "Idle_Std                       float64\n",
            "Idle_Max                         int64\n",
            "Idle_Min                         int64\n",
            "Label                           object\n",
            "Length: 79, dtype: object\n"
          ],
          "name": "stdout"
        }
      ]
    },
    {
      "cell_type": "markdown",
      "metadata": {
        "id": "JeoTUWjNWJeK"
      },
      "source": [
        "***Flow_Bytes_s, Flow_Packets_s are of type object, the rest apart from attack are numeric. However, the data inside these are numeric so will convert them. Also, they have Fwd_Header_Length twice so drop the second occurence.***"
      ]
    },
    {
      "cell_type": "code",
      "metadata": {
        "id": "kQjIREl7WK3h"
      },
      "source": [
        "dataset['Flow_Bytes_s'] = dataset['Flow_Bytes_s'].astype('float64')\n",
        "dataset['Flow_Packets_s'] = dataset['Flow_Packets_s'].astype('float64')"
      ],
      "execution_count": null,
      "outputs": []
    },
    {
      "cell_type": "markdown",
      "metadata": {
        "id": "ykGn0gzJWYOL"
      },
      "source": [
        "# ***Removing columns based on duplicate column names***"
      ]
    },
    {
      "cell_type": "code",
      "metadata": {
        "id": "yR3z3jlYWbaq"
      },
      "source": [
        "dataset = dataset.loc[:, ~dataset.columns.duplicated()]\n",
        "# Note: the above only checks columns names, not column values."
      ],
      "execution_count": null,
      "outputs": []
    },
    {
      "cell_type": "markdown",
      "metadata": {
        "id": "7spMZX0XWizq"
      },
      "source": [
        "# ***Remove NaN/Null/Inf Values***"
      ]
    },
    {
      "cell_type": "code",
      "metadata": {
        "colab": {
          "base_uri": "https://localhost:8080/"
        },
        "id": "5iZSgAU1Whhd",
        "outputId": "c40c23ac-89cd-445b-f473-fb6ba755a7c4"
      },
      "source": [
        "# check if there are any Null values\n",
        "dataset.isnull().any().any()"
      ],
      "execution_count": null,
      "outputs": [
        {
          "output_type": "execute_result",
          "data": {
            "text/plain": [
              "True"
            ]
          },
          "metadata": {
            "tags": []
          },
          "execution_count": 28
        }
      ]
    },
    {
      "cell_type": "code",
      "metadata": {
        "colab": {
          "base_uri": "https://localhost:8080/"
        },
        "id": "U50DO02nWw7U",
        "outputId": "3097e32a-baf5-4951-f9be-366786e680d1"
      },
      "source": [
        "# Replace Inf values with NaN\n",
        "dataset = dataset.replace([np.inf, -np.inf], np.nan)\n",
        "# Drop all occurences of NaN\n",
        "dataset = dataset.dropna()\n",
        "# Double check these are all gone\n",
        "dataset.isnull().any().any()"
      ],
      "execution_count": null,
      "outputs": [
        {
          "output_type": "execute_result",
          "data": {
            "text/plain": [
              "False"
            ]
          },
          "metadata": {
            "tags": []
          },
          "execution_count": 29
        }
      ]
    },
    {
      "cell_type": "markdown",
      "metadata": {
        "id": "M5Pk9ZEVW1Es"
      },
      "source": [
        "# Explore Attacks in Dataset"
      ]
    },
    {
      "cell_type": "code",
      "metadata": {
        "colab": {
          "base_uri": "https://localhost:8080/"
        },
        "id": "RgVwVvc2XE8z",
        "outputId": "6658b10a-a14e-4577-9a3f-88afe2883d00"
      },
      "source": [
        "# Distribution of Dataset\n",
        "dataset['Label'].value_counts()"
      ],
      "execution_count": null,
      "outputs": [
        {
          "output_type": "execute_result",
          "data": {
            "text/plain": [
              "BENIGN                        2271320\n",
              "DoS Hulk                       230124\n",
              "PortScan                       158804\n",
              "DDoS                           128025\n",
              "DoS GoldenEye                   10293\n",
              "FTP-Patator                      7935\n",
              "SSH-Patator                      5897\n",
              "DoS slowloris                    5796\n",
              "DoS Slowhttptest                 5499\n",
              "Bot                              1956\n",
              "Web Attack � Brute Force         1507\n",
              "Web Attack � XSS                  652\n",
              "Infiltration                       36\n",
              "Web Attack � Sql Injection         21\n",
              "Heartbleed                         11\n",
              "Name: Label, dtype: int64"
            ]
          },
          "metadata": {
            "tags": []
          },
          "execution_count": 30
        }
      ]
    },
    {
      "cell_type": "code",
      "metadata": {
        "colab": {
          "base_uri": "https://localhost:8080/",
          "height": 587
        },
        "id": "Kb5v4__5XGir",
        "outputId": "f3c97ad8-6f34-49e3-9ffe-8b504396650e"
      },
      "source": [
        "plt.figure(figsize=(15,10))\n",
        "\n",
        "attack = ('DoS Hulk', 'PortScan', 'DDoS', 'DoS GoldenEye', 'FTP-Patator', 'SSH-Patator', 'DoS Slowloris',\n",
        "          'DoS Slowhttptest', 'Bot', 'Web Attack: Brute Force', 'Web Attack: XSS', 'Infiltration', 'Web Attack: SQL Injection', 'Heartbleed')\n",
        "y_pos = np.arange(len(attack)) \n",
        "amount = dataset['Label'].value_counts()[1:]\n",
        "plt.barh(y_pos, amount, align='center', color='#c1ada3' )\n",
        "plt.yticks(y_pos, attack)\n",
        "plt.title('Distribution of different types of attacks in the dataset')\n",
        "plt.xlabel('Number of occurences')\n",
        "plt.ylabel('Attack types')\n",
        "for i, v in enumerate(amount):\n",
        "    plt.text(v + 3, i-0.1 , str(v))\n",
        "    \n",
        "plt.show()"
      ],
      "execution_count": null,
      "outputs": [
        {
          "output_type": "display_data",
          "data": {
            "image/png": "[encoded data removed]",
            "text/plain": [
              "<Figure size 1080x720 with 1 Axes>"
            ]
          },
          "metadata": {
            "tags": [],
            "needs_background": "light"
          }
        }
      ]
    },
    {
      "cell_type": "markdown",
      "metadata": {
        "id": "FgzXjekMXJZR"
      },
      "source": [
        "***There are only 11, 21, and 36 instances of Heartbleed, SQL injection and infiltration respectively. So, I will drop these since there will not be sufficient enough for training. Moreover, I also rename the web attacks to remove the unicode '?'***"
      ]
    },
    {
      "cell_type": "code",
      "metadata": {
        "colab": {
          "base_uri": "https://localhost:8080/"
        },
        "id": "NsKeT5w0XIQq",
        "outputId": "1199fc5d-8d37-4d47-a2d3-01d46ffe775b"
      },
      "source": [
        "dataset = dataset.replace(['Heartbleed', 'Web Attack � Sql Injection', 'Infiltration'], np.nan)\n",
        "dataset = dataset.dropna()\n",
        "dataset['Label'].value_counts()"
      ],
      "execution_count": null,
      "outputs": [
        {
          "output_type": "execute_result",
          "data": {
            "text/plain": [
              "BENIGN                      2271320\n",
              "DoS Hulk                     230124\n",
              "PortScan                     158804\n",
              "DDoS                         128025\n",
              "DoS GoldenEye                 10293\n",
              "FTP-Patator                    7935\n",
              "SSH-Patator                    5897\n",
              "DoS slowloris                  5796\n",
              "DoS Slowhttptest               5499\n",
              "Bot                            1956\n",
              "Web Attack � Brute Force       1507\n",
              "Web Attack � XSS                652\n",
              "Name: Label, dtype: int64"
            ]
          },
          "metadata": {
            "tags": []
          },
          "execution_count": 32
        }
      ]
    },
    {
      "cell_type": "code",
      "metadata": {
        "id": "tUTJU36fXXW8"
      },
      "source": [
        "dataset.loc[dataset.Label == 'Web Attack � Brute Force', ['Label']] = 'Brute Force'\n",
        "dataset.loc[dataset.Label == 'Web Attack � XSS', ['Label']] = 'XSS'"
      ],
      "execution_count": null,
      "outputs": []
    },
    {
      "cell_type": "markdown",
      "metadata": {
        "id": "Ct96tCPSXauH"
      },
      "source": [
        "***I will add a binary attack column - indicating a 0 if benign, or 1 if there was an attack.***\n",
        "\n",
        "***Furthermore, since there are several types of attacks, I propose a grouping of attacks, which should lead to a better accuracy and generalisation.***"
      ]
    },
    {
      "cell_type": "code",
      "metadata": {
        "id": "YknrScZjXp-r"
      },
      "source": [
        "# Create attack column, containing binary labels\n",
        "dataset['Attack'] = np.where(dataset['Label'] == 'BENIGN', 0, 1)"
      ],
      "execution_count": null,
      "outputs": []
    },
    {
      "cell_type": "code",
      "metadata": {
        "colab": {
          "base_uri": "https://localhost:8080/"
        },
        "id": "d9AK3GE9Xs33",
        "outputId": "508c4604-5b81-4ccb-fe84-2a70134d38bc"
      },
      "source": [
        "# Proposed Groupings\n",
        "attack_group = {'BENIGN': 'benign', \n",
        "                'DoS Hulk': 'dos',\n",
        "                'PortScan': 'probe', \n",
        "                'DDoS': 'ddos',\n",
        "                'DoS GoldenEye': 'dos', \n",
        "                'FTP-Patator': 'brute_force',\n",
        "                'SSH-Patator': 'brute_force', \n",
        "                'DoS slowloris': 'dos', \n",
        "                'DoS Slowhttptest': 'dos',\n",
        "                'Bot': 'botnet',\n",
        "                'Brute Force': 'web_attack', \n",
        "                'XSS': 'web_attack'}\n",
        "# Create grouped label column\n",
        "dataset['Label_Category'] = dataset['Label'].map(lambda x: attack_group[x])\n",
        "dataset['Label_Category'].value_counts()"
      ],
      "execution_count": null,
      "outputs": [
        {
          "output_type": "execute_result",
          "data": {
            "text/plain": [
              "benign         2271320\n",
              "dos             251712\n",
              "probe           158804\n",
              "ddos            128025\n",
              "brute_force      13832\n",
              "web_attack        2159\n",
              "botnet            1956\n",
              "Name: Label_Category, dtype: int64"
            ]
          },
          "metadata": {
            "tags": []
          },
          "execution_count": 35
        }
      ]
    },
    {
      "cell_type": "code",
      "metadata": {
        "colab": {
          "base_uri": "https://localhost:8080/",
          "height": 311
        },
        "id": "DMnR5ldzXuR6",
        "outputId": "add1897c-56cd-496f-894a-84bf01351122"
      },
      "source": [
        "train_attacks = dataset['Attack'].value_counts()\n",
        "train_attacks.plot(kind='barh', color='#c1ada3')\n",
        "plt.title('Distribution of Attack Categories (Grouped)')"
      ],
      "execution_count": null,
      "outputs": [
        {
          "output_type": "execute_result",
          "data": {
            "text/plain": [
              "Text(0.5, 1.0, 'Distribution of Attack Categories (Grouped)')"
            ]
          },
          "metadata": {
            "tags": []
          },
          "execution_count": 36
        },
        {
          "output_type": "display_data",
          "data": {
            "image/png": "[encoded data removed]",
            "text/plain": [
              "<Figure size 432x288 with 1 Axes>"
            ]
          },
          "metadata": {
            "tags": [],
            "needs_background": "light"
          }
        }
      ]
    },
    {
      "cell_type": "code",
      "metadata": {
        "colab": {
          "base_uri": "https://localhost:8080/"
        },
        "id": "lacRRCCsXvx6",
        "outputId": "40d21f5a-852e-4f8d-e2ab-41ad6568b7fa"
      },
      "source": [
        "print(dataset.columns)\n",
        "dataset['Attack'].value_counts()"
      ],
      "execution_count": null,
      "outputs": [
        {
          "output_type": "stream",
          "text": [
            "Index(['Destination_Port', 'Flow_Duration', 'Total_Fwd_Packets',\n",
            "       'Total_Backward_Packets', 'Total_Length_of_Fwd_Packets',\n",
            "       'Total_Length_of_Bwd_Packets', 'Fwd_Packet_Length_Max',\n",
            "       'Fwd_Packet_Length_Min', 'Fwd_Packet_Length_Mean',\n",
            "       'Fwd_Packet_Length_Std', 'Bwd_Packet_Length_Max',\n",
            "       'Bwd_Packet_Length_Min', 'Bwd_Packet_Length_Mean',\n",
            "       'Bwd_Packet_Length_Std', 'Flow_Bytes_s', 'Flow_Packets_s',\n",
            "       'Flow_IAT_Mean', 'Flow_IAT_Std', 'Flow_IAT_Max', 'Flow_IAT_Min',\n",
            "       'Fwd_IAT_Total', 'Fwd_IAT_Mean', 'Fwd_IAT_Std', 'Fwd_IAT_Max',\n",
            "       'Fwd_IAT_Min', 'Bwd_IAT_Total', 'Bwd_IAT_Mean', 'Bwd_IAT_Std',\n",
            "       'Bwd_IAT_Max', 'Bwd_IAT_Min', 'Fwd_PSH_Flags', 'Bwd_PSH_Flags',\n",
            "       'Fwd_URG_Flags', 'Bwd_URG_Flags', 'Fwd_Header_Length',\n",
            "       'Bwd_Header_Length', 'Fwd_Packets_s', 'Bwd_Packets_s',\n",
            "       'Min_Packet_Length', 'Max_Packet_Length', 'Packet_Length_Mean',\n",
            "       'Packet_Length_Std', 'Packet_Length_Variance', 'FIN_Flag_Count',\n",
            "       'SYN_Flag_Count', 'RST_Flag_Count', 'PSH_Flag_Count', 'ACK_Flag_Count',\n",
            "       'URG_Flag_Count', 'CWE_Flag_Count', 'ECE_Flag_Count', 'Down_Up_Ratio',\n",
            "       'Average_Packet_Size', 'Avg_Fwd_Segment_Size', 'Avg_Bwd_Segment_Size',\n",
            "       'Fwd_Avg_Bytes_Bulk', 'Fwd_Avg_Packets_Bulk', 'Fwd_Avg_Bulk_Rate',\n",
            "       'Bwd_Avg_Bytes_Bulk', 'Bwd_Avg_Packets_Bulk', 'Bwd_Avg_Bulk_Rate',\n",
            "       'Subflow_Fwd_Packets', 'Subflow_Fwd_Bytes', 'Subflow_Bwd_Packets',\n",
            "       'Subflow_Bwd_Bytes', 'Init_Win_bytes_forward',\n",
            "       'Init_Win_bytes_backward', 'act_data_pkt_fwd', 'min_seg_size_forward',\n",
            "       'Active_Mean', 'Active_Std', 'Active_Max', 'Active_Min', 'Idle_Mean',\n",
            "       'Idle_Std', 'Idle_Max', 'Idle_Min', 'Label', 'Attack',\n",
            "       'Label_Category'],\n",
            "      dtype='object')\n"
          ],
          "name": "stdout"
        },
        {
          "output_type": "execute_result",
          "data": {
            "text/plain": [
              "0    2271320\n",
              "1     556488\n",
              "Name: Attack, dtype: int64"
            ]
          },
          "metadata": {
            "tags": []
          },
          "execution_count": 37
        }
      ]
    },
    {
      "cell_type": "code",
      "metadata": {
        "colab": {
          "base_uri": "https://localhost:8080/",
          "height": 311
        },
        "id": "lH7Y7co3Xxjx",
        "outputId": "c57e95a5-243f-46de-dcdd-5e14763f854d"
      },
      "source": [
        "train_attacks = dataset['Label_Category'].value_counts()\n",
        "train_attacks.plot(kind='barh', color='#c1a3b7')\n",
        "plt.title('Distribution of Attack Categories (Grouped)')"
      ],
      "execution_count": null,
      "outputs": [
        {
          "output_type": "execute_result",
          "data": {
            "text/plain": [
              "Text(0.5, 1.0, 'Distribution of Attack Categories (Grouped)')"
            ]
          },
          "metadata": {
            "tags": []
          },
          "execution_count": 38
        },
        {
          "output_type": "display_data",
          "data": {
            "image/png": "[encoded data removed]",
            "text/plain": [
              "<Figure size 432x288 with 1 Axes>"
            ]
          },
          "metadata": {
            "tags": [],
            "needs_background": "light"
          }
        }
      ]
    },
    {
      "cell_type": "code",
      "metadata": {
        "colab": {
          "base_uri": "https://localhost:8080/",
          "height": 311
        },
        "id": "yC25HOaoXy6n",
        "outputId": "6ef0dd50-6218-4afe-ffc6-a423ed707077"
      },
      "source": [
        "train_attacks = dataset['Label'].value_counts()\n",
        "train_attacks.plot(kind='barh', color='#c1a3b7')\n",
        "plt.title('Distribution of Attack Categories')"
      ],
      "execution_count": null,
      "outputs": [
        {
          "output_type": "execute_result",
          "data": {
            "text/plain": [
              "Text(0.5, 1.0, 'Distribution of Attack Categories')"
            ]
          },
          "metadata": {
            "tags": []
          },
          "execution_count": 39
        },
        {
          "output_type": "display_data",
          "data": {
            "image/png": "[encoded data removed]",
            "text/plain": [
              "<Figure size 432x288 with 1 Axes>"
            ]
          },
          "metadata": {
            "tags": [],
            "needs_background": "light"
          }
        }
      ]
    },
    {
      "cell_type": "markdown",
      "metadata": {
        "id": "488mjnIOX2OY"
      },
      "source": [
        "# **Splitting Data**"
      ]
    },
    {
      "cell_type": "markdown",
      "metadata": {
        "id": "sIb_QBwgYGNu"
      },
      "source": [
        "***Split data using 60:20:20 ratio, for training, test and validation dataset. I stratify such that the percentages of attacks remain the same throughout the 3 sets.***"
      ]
    },
    {
      "cell_type": "code",
      "metadata": {
        "colab": {
          "base_uri": "https://localhost:8080/"
        },
        "id": "1QGSKOiIX6e-",
        "outputId": "56b33779-6abb-4f59-e647-d2dc84d3d7ee"
      },
      "source": [
        "# 3 Different labeling options\n",
        "attacks = ['Label', 'Label_Category', 'Attack']\n",
        "\n",
        "# xs=feature vectors, ys=labels\n",
        "xs = dataset.drop(attacks, axis=1)\n",
        "ys = dataset[attacks]\n",
        "\n",
        "print('Feature vectors \\n :',xs)\n",
        "print('Labels',ys)\n",
        "# split dataset - stratified\n",
        "x_train, x_temp, y_train, y_temp = train_test_split(xs, ys, test_size=0.4, random_state=0, stratify=ys['Label'])\n",
        "x_test, x_validate, y_test, y_validate = train_test_split(x_temp, y_temp, test_size=0.5, random_state=0, stratify=y_temp['Label'])"
      ],
      "execution_count": null,
      "outputs": [
        {
          "output_type": "stream",
          "text": [
            "Feature vectors \n",
            " :         Destination_Port  Flow_Duration  ...  Idle_Max  Idle_Min\n",
            "0                  54865              3  ...         0         0\n",
            "1                  55054            109  ...         0         0\n",
            "2                  55055             52  ...         0         0\n",
            "3                  46236             34  ...         0         0\n",
            "4                  54863              3  ...         0         0\n",
            "...                  ...            ...  ...       ...       ...\n",
            "692698                53          32215  ...         0         0\n",
            "692699                53            324  ...         0         0\n",
            "692700             58030             82  ...         0         0\n",
            "692701                53        1048635  ...         0         0\n",
            "692702                53          94939  ...         0         0\n",
            "\n",
            "[2827808 rows x 77 columns]\n",
            "Labels          Label Label_Category  Attack\n",
            "0       BENIGN         benign       0\n",
            "1       BENIGN         benign       0\n",
            "2       BENIGN         benign       0\n",
            "3       BENIGN         benign       0\n",
            "4       BENIGN         benign       0\n",
            "...        ...            ...     ...\n",
            "692698  BENIGN         benign       0\n",
            "692699  BENIGN         benign       0\n",
            "692700  BENIGN         benign       0\n",
            "692701  BENIGN         benign       0\n",
            "692702  BENIGN         benign       0\n",
            "\n",
            "[2827808 rows x 3 columns]\n"
          ],
          "name": "stdout"
        }
      ]
    },
    {
      "cell_type": "code",
      "metadata": {
        "colab": {
          "base_uri": "https://localhost:8080/"
        },
        "id": "1PMse3fYYJ2_",
        "outputId": "cc63178e-d57c-4fa9-fd8f-95a27a00c50d"
      },
      "source": [
        "column_names = np.array(list(x_train))\n",
        "to_drop = []\n",
        "for x in column_names:\n",
        "    size = x_train.groupby([x]).size()\n",
        "    # check for columns that only take one value\n",
        "    if (len(size.unique()) == 1):\n",
        "        to_drop.append(x)\n",
        "to_drop"
      ],
      "execution_count": null,
      "outputs": [
        {
          "output_type": "execute_result",
          "data": {
            "text/plain": [
              "['Bwd_PSH_Flags',\n",
              " 'Bwd_URG_Flags',\n",
              " 'Fwd_Avg_Bytes_Bulk',\n",
              " 'Fwd_Avg_Packets_Bulk',\n",
              " 'Fwd_Avg_Bulk_Rate',\n",
              " 'Bwd_Avg_Bytes_Bulk',\n",
              " 'Bwd_Avg_Packets_Bulk',\n",
              " 'Bwd_Avg_Bulk_Rate']"
            ]
          },
          "metadata": {
            "tags": []
          },
          "execution_count": 41
        }
      ]
    },
    {
      "cell_type": "markdown",
      "metadata": {
        "id": "dCbQMajbYMr8"
      },
      "source": [
        "***Drop these features because they only contain one value, and so are redundant as columns***"
      ]
    },
    {
      "cell_type": "code",
      "metadata": {
        "id": "KHhwh7dWYLMk"
      },
      "source": [
        "x_train = x_train.drop(to_drop, axis=1)\n",
        "x_validate = x_validate.drop(to_drop, axis=1)\n",
        "x_test = x_test.drop(to_drop, axis=1)\n",
        "dataset_copy = dataset.drop(to_drop, axis=1)"
      ],
      "execution_count": null,
      "outputs": []
    },
    {
      "cell_type": "markdown",
      "metadata": {
        "id": "dEvknsg8YQ-S"
      },
      "source": [
        "# **Normalization**"
      ]
    },
    {
      "cell_type": "markdown",
      "metadata": {
        "id": "yxBE1sQ_YUlC"
      },
      "source": [
        "***Applying minmax normalization***"
      ]
    },
    {
      "cell_type": "code",
      "metadata": {
        "colab": {
          "base_uri": "https://localhost:8080/"
        },
        "id": "nitNi78FYP_Q",
        "outputId": "c5bb1c5e-ba9e-445d-8c3b-f921705d3d64"
      },
      "source": [
        "# Normalise\n",
        "min_max_scaler = MinMaxScaler().fit(x_train)\n",
        "\n",
        "# Apply normalisation to dataset\n",
        "x_train_1 = min_max_scaler.transform(x_train)\n",
        "x_validate_1 = min_max_scaler.transform(x_validate)\n",
        "x_test_1 = min_max_scaler.transform(x_test)\n",
        "\n",
        "# All values between 0 and 1\n",
        "pd.Series(x_train_1.flatten()).describe()\n",
        "# print(type(x_train_1))"
      ],
      "execution_count": null,
      "outputs": [
        {
          "output_type": "execute_result",
          "data": {
            "text/plain": [
              "count    1.170712e+08\n",
              "mean     8.576172e-02\n",
              "std      2.505550e-01\n",
              "min      0.000000e+00\n",
              "25%      0.000000e+00\n",
              "50%      8.333332e-07\n",
              "75%      5.811456e-03\n",
              "max      1.000000e+00\n",
              "dtype: float64"
            ]
          },
          "metadata": {
            "tags": []
          },
          "execution_count": 43
        }
      ]
    },
    {
      "cell_type": "markdown",
      "metadata": {
        "id": "VX972nCwYcuR"
      },
      "source": [
        "# **Feature Selection**"
      ]
    },
    {
      "cell_type": "markdown",
      "metadata": {
        "id": "CGDl3Nu2ZELu"
      },
      "source": [
        "***Use \"chi2\" select k best First, score all the features***"
      ]
    },
    {
      "cell_type": "code",
      "metadata": {
        "id": "xsI4ZJKgYjce"
      },
      "source": [
        "features = SelectKBest(score_func=chi2, k=x_train_1.shape[1])\n",
        "#fit features to the training dataset\n",
        "fit = features.fit(x_train_1, y_train.Label)"
      ],
      "execution_count": null,
      "outputs": []
    },
    {
      "cell_type": "code",
      "metadata": {
        "colab": {
          "base_uri": "https://localhost:8080/",
          "height": 297
        },
        "id": "6RwDdoqvY6Kw",
        "outputId": "f4db19a0-5b33-47c1-ca6c-aa28e31484ad"
      },
      "source": [
        "# plot the score associated with each feature\n",
        "plt.bar([i for i in range(len(features.scores_))], features.scores_)\n",
        "plt.xticks([i for i in range(len(features.scores_))], dataset_copy.columns)\n",
        "plt.xticks(rotation=90, fontsize=5)\n",
        "plt.tight_layout()\n",
        "plt.savefig('features.png', dpi=300)"
      ],
      "execution_count": null,
      "outputs": [
        {
          "output_type": "display_data",
          "data": {
            "image/png": "[encoded data removed]",
            "text/plain": [
              "<Figure size 432x288 with 1 Axes>"
            ]
          },
          "metadata": {
            "tags": [],
            "needs_background": "light"
          }
        }
      ]
    },
    {
      "cell_type": "code",
      "metadata": {
        "colab": {
          "base_uri": "https://localhost:8080/",
          "height": 297
        },
        "id": "zOP86lU0ZlvO",
        "outputId": "aa0a0804-960b-4208-d9cc-a467ec819400"
      },
      "source": [
        "# sort the features by importance score\n",
        "feature_importances = zip(dataset_copy.columns, features.scores_)\n",
        "feature_importances = sorted(feature_importances, key = lambda x: x[1], reverse = True)\n",
        "sorted_importances = [importance[1] for importance in feature_importances]\n",
        "sorted_features = [importance[0] for importance in feature_importances]\n",
        "\n",
        "x_values = list(range(len(feature_importances)))\n",
        "\n",
        "# plot the cumulative scores\n",
        "cumulative_importances = np.cumsum(sorted_importances)\n",
        "plt.plot(x_values, cumulative_importances)\n",
        "\n",
        "# Draw line at 99% of importance retained \n",
        "value99 = cumulative_importances[-1]*0.99\n",
        "\n",
        "plt.hlines(y = value99, xmin=0, xmax=len(sorted_importances), color = 'r', linestyles = 'dashed')\n",
        "plt.xticks(x_values, sorted_features, rotation = 'vertical', fontsize=5)\n",
        "plt.yticks([], [])\n",
        "plt.xlabel('Feature Variable', fontsize=8)\n",
        "plt.title('A Chart to Show Cumulative Feature Scores', fontsize=8)\n",
        "#plt.figure(figsize=(500,200))\n",
        "plt.tight_layout()\n",
        "plt.savefig('cum_features.png', dpi=300)"
      ],
      "execution_count": null,
      "outputs": [
        {
          "output_type": "display_data",
          "data": {
            "image/png": "[encoded data removed]",
            "text/plain": [
              "<Figure size 432x288 with 1 Axes>"
            ]
          },
          "metadata": {
            "tags": [],
            "needs_background": "light"
          }
        }
      ]
    },
    {
      "cell_type": "markdown",
      "metadata": {
        "id": "sLwkibtsZsX-"
      },
      "source": [
        "***I select 40 features. 99% of the information is contained in the first 40, so this is the cut off point***"
      ]
    },
    {
      "cell_type": "code",
      "metadata": {
        "id": "WKvHa3wlZuOI"
      },
      "source": [
        "# perform selectkbest with k=40\n",
        "features = SelectKBest(score_func=chi2, k=40)\n",
        "fit = features.fit(x_train_1, y_train.Label)\n",
        "x_train = fit.transform(x_train_1)\n",
        "x_test = fit.transform(x_test_1)\n",
        "x_validate = fit.transform(x_validate_1)"
      ],
      "execution_count": null,
      "outputs": []
    },
    {
      "cell_type": "markdown",
      "metadata": {
        "id": "028hoxfRZx-9"
      },
      "source": [
        "***Need to find out what are the new features that we need to collect***"
      ]
    },
    {
      "cell_type": "code",
      "metadata": {
        "id": "EyDmTfnfZ0h-"
      },
      "source": [
        "new_features = dataset_copy.columns[features.get_support(indices=True)]"
      ],
      "execution_count": null,
      "outputs": []
    },
    {
      "cell_type": "code",
      "metadata": {
        "colab": {
          "base_uri": "https://localhost:8080/"
        },
        "id": "sJZBnrEvZ3LN",
        "outputId": "3bc29d5e-9c06-4fa3-fcb3-f8b9f8de6419"
      },
      "source": [
        "new_features"
      ],
      "execution_count": null,
      "outputs": [
        {
          "output_type": "execute_result",
          "data": {
            "text/plain": [
              "Index(['Destination_Port', 'Flow_Duration', 'Bwd_Packet_Length_Max',\n",
              "       'Bwd_Packet_Length_Min', 'Bwd_Packet_Length_Mean',\n",
              "       'Bwd_Packet_Length_Std', 'Flow_IAT_Mean', 'Flow_IAT_Std',\n",
              "       'Flow_IAT_Max', 'Flow_IAT_Min', 'Fwd_IAT_Total', 'Fwd_IAT_Mean',\n",
              "       'Fwd_IAT_Std', 'Fwd_IAT_Max', 'Fwd_IAT_Min', 'Bwd_IAT_Total',\n",
              "       'Bwd_IAT_Mean', 'Bwd_IAT_Std', 'Bwd_IAT_Max', 'Bwd_IAT_Min',\n",
              "       'Fwd_PSH_Flags', 'Fwd_Packets_s', 'Max_Packet_Length',\n",
              "       'Packet_Length_Mean', 'Packet_Length_Std', 'Packet_Length_Variance',\n",
              "       'FIN_Flag_Count', 'SYN_Flag_Count', 'PSH_Flag_Count', 'ACK_Flag_Count',\n",
              "       'URG_Flag_Count', 'Average_Packet_Size', 'Avg_Bwd_Segment_Size',\n",
              "       'Init_Win_bytes_forward', 'Init_Win_bytes_backward', 'Active_Min',\n",
              "       'Idle_Mean', 'Idle_Std', 'Idle_Max', 'Idle_Min'],\n",
              "      dtype='object')"
            ]
          },
          "metadata": {
            "tags": []
          },
          "execution_count": 50
        }
      ]
    },
    {
      "cell_type": "code",
      "metadata": {
        "id": "3TneXtS3Z5bN"
      },
      "source": [
        "attack = np.array(['BENIGN', 'Bot', 'Brute Force', 'DDoS', 'DoS GoldenEye', 'DoS Hulk', 'DoS Slowhttptest',\n",
        "                   'DoS slowloris', 'FTP-Patator', 'PortScan', 'SSH-Patator', 'XSS'])\n",
        "attack_groups = np.array(['benign', 'botnet', 'brute_force', 'ddos', 'dos', 'probe', 'web_attack'])"
      ],
      "execution_count": null,
      "outputs": []
    },
    {
      "cell_type": "markdown",
      "metadata": {
        "id": "DAEbRSjEaEkp"
      },
      "source": [
        "# **1. SVM**"
      ]
    },
    {
      "cell_type": "markdown",
      "metadata": {
        "id": "7OufaCzmaSHa"
      },
      "source": [
        "Try our first algorithm - a support vector machine\n",
        "\n",
        "1. On all labels\n",
        "2. On grouped labels\n",
        "3. On binary labels"
      ]
    },
    {
      "cell_type": "code",
      "metadata": {
        "id": "uR-zAOwWaH24"
      },
      "source": [
        "classifier = LinearSVC()"
      ],
      "execution_count": null,
      "outputs": []
    },
    {
      "cell_type": "markdown",
      "metadata": {
        "id": "BCCqdHE9aYr8"
      },
      "source": [
        "# All labels"
      ]
    },
    {
      "cell_type": "code",
      "metadata": {
        "id": "jubO7C6_acWO"
      },
      "source": [
        ""
      ],
      "execution_count": null,
      "outputs": []
    }
  ]
}